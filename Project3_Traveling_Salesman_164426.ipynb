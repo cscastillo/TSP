{
  "nbformat": 4,
  "nbformat_minor": 0,
  "metadata": {
    "colab": {
      "provenance": []
    },
    "kernelspec": {
      "name": "python3",
      "display_name": "Python 3"
    },
    "language_info": {
      "name": "python"
    }
  },
  "cells": [
    {
      "cell_type": "markdown",
      "source": [
        "#### Project 3. \n",
        "## Traveling Salesman Problem\n",
        "##### Carlos Santiago Castillo \n",
        "##### 164426"
      ],
      "metadata": {
        "id": "4MTnBahWTIKk"
      }
    },
    {
      "cell_type": "code",
      "source": [
        "import math\n",
        "import sys\n",
        "import numpy as np\n",
        "\n",
        "city_names = [\"Amsterdam\", \"Barcelona\", \"Berlin\", \"Brussels\", \"Cologne\", \"Frankfurt\",\n",
        "          \"Madrid\", \"Milan\", \"London\", \"Lyon\", \"Paris\", \"Rome\"]\n",
        "time_matrix = np.array([[0, 0, 6.067, 1.75, 2, 0, 0, 0, 0, 0, 0, 0],\n",
        "                   [0, 0, 0, 0, 0, 0, 2.5, 0, 0, 3.333, 6.5, 0],\n",
        "                   [6.067, 0, 0, 0, 0, 3.867, 0, 0, 0, 0, 0, 0],\n",
        "                   [1.75, 0, 0, 0, 0, 0, 0, 0, 0, 0, 1.367, 0],\n",
        "                   [2, 0, 0, 0, 0, 2, 0, 0, 0, 0, 0, 0],\n",
        "                   [0, 0, 3.867, 0, 2, 0, 0, 7.567, 0, 0, 8, 0],\n",
        "                   [0, 2.5, 0, 0, 0, 0, 0, 0, 0, 0, 3.75, 0],\n",
        "                   [0, 0, 0, 0, 0, 7.567, 0, 0, 0, 2.933, 0, 2.8],\n",
        "                   [0, 0, 0, 0, 0, 0, 0, 0, 0, 0, 0, 0],\n",
        "                   [0, 3.333, 0, 0, 0, 0, 0, 2.933, 0, 0, 1.867, 0],\n",
        "                   [0, 6.5, 0, 1.367, 0, 8, 3.75, 0, 0, 1.867, 0, 0],\n",
        "                   [0, 0, 0, 0, 0, 0, 0, 2.8, 0, 0, 0, 0]])\n",
        "\n",
        "cost_matrix = np.array([[0, 0, 235, 80, 40, 0, 0, 0, 0, 0, 0, 0],\n",
        "                   [0, 0, 0, 0, 0, 0, 98, 0, 0, 320, 400, 0],\n",
        "                   [235, 0, 0, 0, 0, 125, 0, 0, 0, 0, 0, 0],\n",
        "                   [80, 0, 0, 0, 0, 0, 0, 0, 0, 0, 80, 0],\n",
        "                   [40, 0, 0, 0, 0, 40, 0, 0, 0, 0, 0, 0],\n",
        "                   [0, 0, 125, 0, 40, 0, 0, 240, 0, 0, 340, 0],\n",
        "                   [0, 98, 0, 0, 0, 0, 0, 0, 0, 0, 380, 0],\n",
        "                   [0, 0, 0, 0, 0, 240, 0, 0, 0, 180, 0, 125],\n",
        "                   [0, 0, 0, 0, 0, 0, 0, 0, 0, 0, 0, 0],\n",
        "                   [0, 320, 0, 0, 0, 0, 0, 180, 0, 0, 185, 0],\n",
        "                   [0, 400, 0, 80, 0, 340, 380, 0, 0, 185, 0, 0],\n",
        "                   [0, 0, 0, 0, 0, 0, 0, 125, 0, 0, 0, 0]])\n",
        "\n",
        "city_to_idx = {city_names[i]: i for i in range(len(city_names))}\n",
        "idx_to_city = {i: city_names[i] for i in range(len(city_names))}\n",
        "\n",
        "def shortest_route_nn(cities, distances):\n",
        "    n = len(city_names)\n",
        "    remaining_cities = list(range(1, n))\n",
        "    path = [0]\n",
        "    while remaining_cities:\n",
        "        nearest_city = min(remaining_cities, key=lambda city: distances[path[-1]][city] if distances[path[-1]][city] > 0 else np.inf)\n",
        "        path.append(nearest_city)\n",
        "        remaining_cities.remove(nearest_city)\n",
        "    return path\n",
        "\n",
        "def total_distance(route, matrix):\n",
        "    total_dist = 0\n",
        "    for i in range(len(route)-1):\n",
        "        total_dist += (matrix[route[i], route[i+1]])\n",
        "    return total_dist\n",
        "\n",
        "start_city = \"Madrid\"\n",
        "start_city_idx = city_to_idx[start_city]\n",
        "\n",
        "#Time\n",
        "shortest_route = shortest_route_nn(start_city_idx, time_matrix)\n",
        "total_dist = total_distance(shortest_route, time_matrix)\n",
        "\n",
        "print(\"The shortest route starting from \" + start_city + \" is:\")\n",
        "for city in shortest_route:\n",
        "    print(city_names[city])\n",
        "\n",
        "print(\"Total distance:\", total_dist)\n",
        "print(\" \")\n",
        "\n",
        "#Cost\n",
        "cheapest_route = shortest_route_nn(start_city_idx, cost_matrix)\n",
        "total_cost = total_distance(cheapest_route, cost_matrix)\n",
        "\n",
        "print(\"The cheapest route starting from \" + start_city + \" is:\")\n",
        "for city in cheapest_route:\n",
        "    print(city_names[city])\n",
        "\n",
        "print(\"Total cost:\", total_cost)"
      ],
      "metadata": {
        "colab": {
          "base_uri": "https://localhost:8080/"
        },
        "id": "E8GpTgV01ZR6",
        "outputId": "c7a4ff4c-d0cc-404a-cea0-02a55e5b9739"
      },
      "execution_count": 84,
      "outputs": [
        {
          "output_type": "stream",
          "name": "stdout",
          "text": [
            "The shortest route starting from Madrid is:\n",
            "Amsterdam\n",
            "Brussels\n",
            "Paris\n",
            "Lyon\n",
            "Milan\n",
            "Rome\n",
            "Barcelona\n",
            "Madrid\n",
            "Berlin\n",
            "Frankfurt\n",
            "Cologne\n",
            "London\n",
            "Total distance: 19.084\n",
            " \n",
            "The cheapest route starting from Madrid is:\n",
            "Amsterdam\n",
            "Cologne\n",
            "Frankfurt\n",
            "Berlin\n",
            "Barcelona\n",
            "Madrid\n",
            "Paris\n",
            "Brussels\n",
            "Milan\n",
            "Rome\n",
            "London\n",
            "Lyon\n",
            "Total cost: 888\n"
          ]
        }
      ]
    }
  ]
}